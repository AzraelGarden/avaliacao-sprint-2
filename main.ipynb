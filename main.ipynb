{
 "metadata": {
  "language_info": {
   "codemirror_mode": {
    "name": "ipython",
    "version": 3
   },
   "file_extension": ".py",
   "mimetype": "text/x-python",
   "name": "python",
   "nbconvert_exporter": "python",
   "pygments_lexer": "ipython3",
   "version": "3.8.5"
  },
  "orig_nbformat": 2,
  "kernelspec": {
   "name": "python385jvsc74a57bd0916dbcbb3f70747c44a77c7bcd40155683ae19c65e1c03b4aa3499c5328201f1",
   "display_name": "Python 3.8.5 64-bit"
  },
  "metadata": {
   "interpreter": {
    "hash": "916dbcbb3f70747c44a77c7bcd40155683ae19c65e1c03b4aa3499c5328201f1"
   }
  }
 },
 "nbformat": 4,
 "nbformat_minor": 2,
 "cells": [
  {
   "cell_type": "code",
   "execution_count": 1,
   "metadata": {},
   "outputs": [],
   "source": [
    "import pymongo\n",
    "import openml\n",
    "import json\n",
    "import pandas as pd\n",
    "from sklearn import datasets"
   ]
  },
  {
   "source": [
    "# Criando uma database e um collection para o mongo"
   ],
   "cell_type": "markdown",
   "metadata": {}
  },
  {
   "cell_type": "code",
   "execution_count": 2,
   "metadata": {},
   "outputs": [],
   "source": [
    "myClient = pymongo.MongoClient(\"mongodb://localhost:27017/\")\n",
    "mydb = myClient[\"desafio\"]\n",
    "myCol = mydb[\"diabete\"]"
   ]
  },
  {
   "source": [
    "# Capturando todos os dados e inserindo em uma dataset"
   ],
   "cell_type": "markdown",
   "metadata": {}
  },
  {
   "cell_type": "code",
   "execution_count": 3,
   "metadata": {},
   "outputs": [],
   "source": [
    "dataset = openml.datasets.get_dataset(37)"
   ]
  },
  {
   "cell_type": "code",
   "execution_count": 4,
   "metadata": {},
   "outputs": [
    {
     "output_type": "execute_result",
     "data": {
      "text/plain": [
       "openml.datasets.dataset.OpenMLDataset"
      ]
     },
     "metadata": {},
     "execution_count": 4
    }
   ],
   "source": [
    "type(dataset)"
   ]
  },
  {
   "cell_type": "code",
   "execution_count": 5,
   "metadata": {},
   "outputs": [
    {
     "output_type": "stream",
     "name": "stdout",
     "text": [
      "OpenML Dataset\n==============\nName..........: diabetes\nVersion.......: 1\nFormat........: ARFF\nUpload Date...: 2014-04-06 23:22:13\nLicence.......: Public\nDownload URL..: https://www.openml.org/data/v1/download/37/diabetes.arff\nOpenML URL....: https://www.openml.org/d/37\n# of features.: 9\n# of instances: 768\n"
     ]
    }
   ],
   "source": [
    "print(dataset)"
   ]
  },
  {
   "cell_type": "code",
   "execution_count": 6,
   "metadata": {},
   "outputs": [
    {
     "output_type": "stream",
     "name": "stdout",
     "text": [
      "(     preg  plas  pres  skin   insu  mass   pedi  age\n0       6   148    72    35    0.0  33.6  0.627   50\n1       1    85    66    29    0.0  26.6  0.351   31\n2       8   183    64     0    0.0  23.3  0.672   32\n3       1    89    66    23   94.0  28.1  0.167   21\n4       0   137    40    35  168.0  43.1  2.288   33\n..    ...   ...   ...   ...    ...   ...    ...  ...\n763    10   101    76    48  180.0  32.9  0.171   63\n764     2   122    70    27    0.0  36.8  0.340   27\n765     5   121    72    23  112.0  26.2  0.245   30\n766     1   126    60     0    0.0  30.1  0.349   47\n767     1    93    70    31    0.0  30.4  0.315   23\n\n[768 rows x 8 columns], 0      tested_positive\n1      tested_negative\n2      tested_positive\n3      tested_negative\n4      tested_positive\n            ...       \n763    tested_negative\n764    tested_negative\n765    tested_negative\n766    tested_positive\n767    tested_negative\nName: class, Length: 768, dtype: category\nCategories (2, object): ['tested_negative' < 'tested_positive'], [False, False, False, False, False, False, False, False], ['preg', 'plas', 'pres', 'skin', 'insu', 'mass', 'pedi', 'age'])\n"
     ]
    }
   ],
   "source": [
    "print(dataset.get_data(dataset_format = \"dataframe\", target = dataset.default_target_attribute))"
   ]
  },
  {
   "cell_type": "code",
   "execution_count": 7,
   "metadata": {},
   "outputs": [],
   "source": [
    "info = dataset.get_data(dataset_format = \"dataframe\", target = dataset.default_target_attribute)"
   ]
  },
  {
   "cell_type": "code",
   "execution_count": 8,
   "metadata": {},
   "outputs": [
    {
     "output_type": "execute_result",
     "data": {
      "text/plain": [
       "tuple"
      ]
     },
     "metadata": {},
     "execution_count": 8
    }
   ],
   "source": [
    "type(info)"
   ]
  },
  {
   "source": [
    "# Analisando os dados capturados do dataset"
   ],
   "cell_type": "markdown",
   "metadata": {}
  },
  {
   "cell_type": "code",
   "execution_count": 9,
   "metadata": {},
   "outputs": [
    {
     "output_type": "execute_result",
     "data": {
      "text/plain": [
       "     preg  plas  pres  skin   insu  mass   pedi  age\n",
       "0       6   148    72    35    0.0  33.6  0.627   50\n",
       "1       1    85    66    29    0.0  26.6  0.351   31\n",
       "2       8   183    64     0    0.0  23.3  0.672   32\n",
       "3       1    89    66    23   94.0  28.1  0.167   21\n",
       "4       0   137    40    35  168.0  43.1  2.288   33\n",
       "..    ...   ...   ...   ...    ...   ...    ...  ...\n",
       "763    10   101    76    48  180.0  32.9  0.171   63\n",
       "764     2   122    70    27    0.0  36.8  0.340   27\n",
       "765     5   121    72    23  112.0  26.2  0.245   30\n",
       "766     1   126    60     0    0.0  30.1  0.349   47\n",
       "767     1    93    70    31    0.0  30.4  0.315   23\n",
       "\n",
       "[768 rows x 8 columns]"
      ],
      "text/html": "<div>\n<style scoped>\n    .dataframe tbody tr th:only-of-type {\n        vertical-align: middle;\n    }\n\n    .dataframe tbody tr th {\n        vertical-align: top;\n    }\n\n    .dataframe thead th {\n        text-align: right;\n    }\n</style>\n<table border=\"1\" class=\"dataframe\">\n  <thead>\n    <tr style=\"text-align: right;\">\n      <th></th>\n      <th>preg</th>\n      <th>plas</th>\n      <th>pres</th>\n      <th>skin</th>\n      <th>insu</th>\n      <th>mass</th>\n      <th>pedi</th>\n      <th>age</th>\n    </tr>\n  </thead>\n  <tbody>\n    <tr>\n      <th>0</th>\n      <td>6</td>\n      <td>148</td>\n      <td>72</td>\n      <td>35</td>\n      <td>0.0</td>\n      <td>33.6</td>\n      <td>0.627</td>\n      <td>50</td>\n    </tr>\n    <tr>\n      <th>1</th>\n      <td>1</td>\n      <td>85</td>\n      <td>66</td>\n      <td>29</td>\n      <td>0.0</td>\n      <td>26.6</td>\n      <td>0.351</td>\n      <td>31</td>\n    </tr>\n    <tr>\n      <th>2</th>\n      <td>8</td>\n      <td>183</td>\n      <td>64</td>\n      <td>0</td>\n      <td>0.0</td>\n      <td>23.3</td>\n      <td>0.672</td>\n      <td>32</td>\n    </tr>\n    <tr>\n      <th>3</th>\n      <td>1</td>\n      <td>89</td>\n      <td>66</td>\n      <td>23</td>\n      <td>94.0</td>\n      <td>28.1</td>\n      <td>0.167</td>\n      <td>21</td>\n    </tr>\n    <tr>\n      <th>4</th>\n      <td>0</td>\n      <td>137</td>\n      <td>40</td>\n      <td>35</td>\n      <td>168.0</td>\n      <td>43.1</td>\n      <td>2.288</td>\n      <td>33</td>\n    </tr>\n    <tr>\n      <th>...</th>\n      <td>...</td>\n      <td>...</td>\n      <td>...</td>\n      <td>...</td>\n      <td>...</td>\n      <td>...</td>\n      <td>...</td>\n      <td>...</td>\n    </tr>\n    <tr>\n      <th>763</th>\n      <td>10</td>\n      <td>101</td>\n      <td>76</td>\n      <td>48</td>\n      <td>180.0</td>\n      <td>32.9</td>\n      <td>0.171</td>\n      <td>63</td>\n    </tr>\n    <tr>\n      <th>764</th>\n      <td>2</td>\n      <td>122</td>\n      <td>70</td>\n      <td>27</td>\n      <td>0.0</td>\n      <td>36.8</td>\n      <td>0.340</td>\n      <td>27</td>\n    </tr>\n    <tr>\n      <th>765</th>\n      <td>5</td>\n      <td>121</td>\n      <td>72</td>\n      <td>23</td>\n      <td>112.0</td>\n      <td>26.2</td>\n      <td>0.245</td>\n      <td>30</td>\n    </tr>\n    <tr>\n      <th>766</th>\n      <td>1</td>\n      <td>126</td>\n      <td>60</td>\n      <td>0</td>\n      <td>0.0</td>\n      <td>30.1</td>\n      <td>0.349</td>\n      <td>47</td>\n    </tr>\n    <tr>\n      <th>767</th>\n      <td>1</td>\n      <td>93</td>\n      <td>70</td>\n      <td>31</td>\n      <td>0.0</td>\n      <td>30.4</td>\n      <td>0.315</td>\n      <td>23</td>\n    </tr>\n  </tbody>\n</table>\n<p>768 rows × 8 columns</p>\n</div>"
     },
     "metadata": {},
     "execution_count": 9
    }
   ],
   "source": [
    "info[0]"
   ]
  },
  {
   "cell_type": "code",
   "execution_count": 10,
   "metadata": {},
   "outputs": [
    {
     "output_type": "execute_result",
     "data": {
      "text/plain": [
       "6"
      ]
     },
     "metadata": {},
     "execution_count": 10
    }
   ],
   "source": [
    "info[0]['preg'][0]"
   ]
  },
  {
   "cell_type": "code",
   "execution_count": 11,
   "metadata": {},
   "outputs": [
    {
     "output_type": "execute_result",
     "data": {
      "text/plain": [
       "'tested_positive'"
      ]
     },
     "metadata": {},
     "execution_count": 11
    }
   ],
   "source": [
    "info[1][0]"
   ]
  },
  {
   "source": [
    "# Transformando o dataset em DataFrame"
   ],
   "cell_type": "markdown",
   "metadata": {}
  },
  {
   "cell_type": "code",
   "execution_count": 12,
   "metadata": {},
   "outputs": [],
   "source": [
    "df = pd.DataFrame(info[0])"
   ]
  },
  {
   "cell_type": "code",
   "execution_count": 13,
   "metadata": {},
   "outputs": [
    {
     "output_type": "execute_result",
     "data": {
      "text/plain": [
       "pandas.core.frame.DataFrame"
      ]
     },
     "metadata": {},
     "execution_count": 13
    }
   ],
   "source": [
    "type(df)"
   ]
  },
  {
   "cell_type": "code",
   "execution_count": 14,
   "metadata": {},
   "outputs": [],
   "source": [
    "a_renomear = {\n",
    "    'preg': 'num_vezes_gestacao',\n",
    "    'plas': 'plasma',\n",
    "    'pres': 'pressao_distolica',\n",
    "    'skin': 'dobra_triceps',\n",
    "    'insu': 'insulina',\n",
    "    'mass': 'massa',\n",
    "    'pedi': 'funcao_pedigree',\n",
    "    'age': 'idade'\n",
    "}"
   ]
  },
  {
   "cell_type": "code",
   "execution_count": 15,
   "metadata": {},
   "outputs": [],
   "source": [
    "df = df.rename(columns = a_renomear)"
   ]
  },
  {
   "cell_type": "code",
   "execution_count": 16,
   "metadata": {},
   "outputs": [
    {
     "output_type": "execute_result",
     "data": {
      "text/plain": [
       "   num_vezes_gestacao  plasma  pressao_distolica  dobra_triceps  insulina  \\\n",
       "0                   6     148                 72             35       0.0   \n",
       "1                   1      85                 66             29       0.0   \n",
       "2                   8     183                 64              0       0.0   \n",
       "3                   1      89                 66             23      94.0   \n",
       "4                   0     137                 40             35     168.0   \n",
       "5                   5     116                 74              0       0.0   \n",
       "6                   3      78                 50             32      88.0   \n",
       "7                  10     115                  0              0       0.0   \n",
       "8                   2     197                 70             45     543.0   \n",
       "9                   8     125                 96              0       0.0   \n",
       "\n",
       "   massa  funcao_pedigree  idade  \n",
       "0   33.6            0.627     50  \n",
       "1   26.6            0.351     31  \n",
       "2   23.3            0.672     32  \n",
       "3   28.1            0.167     21  \n",
       "4   43.1            2.288     33  \n",
       "5   25.6            0.201     30  \n",
       "6   31.0            0.248     26  \n",
       "7   35.3            0.134     29  \n",
       "8   30.5            0.158     53  \n",
       "9    0.0            0.232     54  "
      ],
      "text/html": "<div>\n<style scoped>\n    .dataframe tbody tr th:only-of-type {\n        vertical-align: middle;\n    }\n\n    .dataframe tbody tr th {\n        vertical-align: top;\n    }\n\n    .dataframe thead th {\n        text-align: right;\n    }\n</style>\n<table border=\"1\" class=\"dataframe\">\n  <thead>\n    <tr style=\"text-align: right;\">\n      <th></th>\n      <th>num_vezes_gestacao</th>\n      <th>plasma</th>\n      <th>pressao_distolica</th>\n      <th>dobra_triceps</th>\n      <th>insulina</th>\n      <th>massa</th>\n      <th>funcao_pedigree</th>\n      <th>idade</th>\n    </tr>\n  </thead>\n  <tbody>\n    <tr>\n      <th>0</th>\n      <td>6</td>\n      <td>148</td>\n      <td>72</td>\n      <td>35</td>\n      <td>0.0</td>\n      <td>33.6</td>\n      <td>0.627</td>\n      <td>50</td>\n    </tr>\n    <tr>\n      <th>1</th>\n      <td>1</td>\n      <td>85</td>\n      <td>66</td>\n      <td>29</td>\n      <td>0.0</td>\n      <td>26.6</td>\n      <td>0.351</td>\n      <td>31</td>\n    </tr>\n    <tr>\n      <th>2</th>\n      <td>8</td>\n      <td>183</td>\n      <td>64</td>\n      <td>0</td>\n      <td>0.0</td>\n      <td>23.3</td>\n      <td>0.672</td>\n      <td>32</td>\n    </tr>\n    <tr>\n      <th>3</th>\n      <td>1</td>\n      <td>89</td>\n      <td>66</td>\n      <td>23</td>\n      <td>94.0</td>\n      <td>28.1</td>\n      <td>0.167</td>\n      <td>21</td>\n    </tr>\n    <tr>\n      <th>4</th>\n      <td>0</td>\n      <td>137</td>\n      <td>40</td>\n      <td>35</td>\n      <td>168.0</td>\n      <td>43.1</td>\n      <td>2.288</td>\n      <td>33</td>\n    </tr>\n    <tr>\n      <th>5</th>\n      <td>5</td>\n      <td>116</td>\n      <td>74</td>\n      <td>0</td>\n      <td>0.0</td>\n      <td>25.6</td>\n      <td>0.201</td>\n      <td>30</td>\n    </tr>\n    <tr>\n      <th>6</th>\n      <td>3</td>\n      <td>78</td>\n      <td>50</td>\n      <td>32</td>\n      <td>88.0</td>\n      <td>31.0</td>\n      <td>0.248</td>\n      <td>26</td>\n    </tr>\n    <tr>\n      <th>7</th>\n      <td>10</td>\n      <td>115</td>\n      <td>0</td>\n      <td>0</td>\n      <td>0.0</td>\n      <td>35.3</td>\n      <td>0.134</td>\n      <td>29</td>\n    </tr>\n    <tr>\n      <th>8</th>\n      <td>2</td>\n      <td>197</td>\n      <td>70</td>\n      <td>45</td>\n      <td>543.0</td>\n      <td>30.5</td>\n      <td>0.158</td>\n      <td>53</td>\n    </tr>\n    <tr>\n      <th>9</th>\n      <td>8</td>\n      <td>125</td>\n      <td>96</td>\n      <td>0</td>\n      <td>0.0</td>\n      <td>0.0</td>\n      <td>0.232</td>\n      <td>54</td>\n    </tr>\n  </tbody>\n</table>\n</div>"
     },
     "metadata": {},
     "execution_count": 16
    }
   ],
   "source": [
    "df.head(10)"
   ]
  },
  {
   "cell_type": "code",
   "execution_count": 17,
   "metadata": {},
   "outputs": [],
   "source": [
    "for i in range(len(df)):\n",
    "    if info[1][i] == 'tested_negative':\n",
    "        df.loc[i, \"resultado\"] = 0\n",
    "    if info[1][i] == 'tested_positive':\n",
    "        df.loc[i, \"resultado\"] = 1"
   ]
  },
  {
   "cell_type": "code",
   "execution_count": 18,
   "metadata": {},
   "outputs": [
    {
     "output_type": "execute_result",
     "data": {
      "text/plain": [
       "   num_vezes_gestacao  plasma  pressao_distolica  dobra_triceps  insulina  \\\n",
       "0                   6     148                 72             35       0.0   \n",
       "1                   1      85                 66             29       0.0   \n",
       "2                   8     183                 64              0       0.0   \n",
       "3                   1      89                 66             23      94.0   \n",
       "4                   0     137                 40             35     168.0   \n",
       "5                   5     116                 74              0       0.0   \n",
       "6                   3      78                 50             32      88.0   \n",
       "7                  10     115                  0              0       0.0   \n",
       "8                   2     197                 70             45     543.0   \n",
       "9                   8     125                 96              0       0.0   \n",
       "\n",
       "   massa  funcao_pedigree  idade  resultado  \n",
       "0   33.6            0.627     50        1.0  \n",
       "1   26.6            0.351     31        0.0  \n",
       "2   23.3            0.672     32        1.0  \n",
       "3   28.1            0.167     21        0.0  \n",
       "4   43.1            2.288     33        1.0  \n",
       "5   25.6            0.201     30        0.0  \n",
       "6   31.0            0.248     26        1.0  \n",
       "7   35.3            0.134     29        0.0  \n",
       "8   30.5            0.158     53        1.0  \n",
       "9    0.0            0.232     54        1.0  "
      ],
      "text/html": "<div>\n<style scoped>\n    .dataframe tbody tr th:only-of-type {\n        vertical-align: middle;\n    }\n\n    .dataframe tbody tr th {\n        vertical-align: top;\n    }\n\n    .dataframe thead th {\n        text-align: right;\n    }\n</style>\n<table border=\"1\" class=\"dataframe\">\n  <thead>\n    <tr style=\"text-align: right;\">\n      <th></th>\n      <th>num_vezes_gestacao</th>\n      <th>plasma</th>\n      <th>pressao_distolica</th>\n      <th>dobra_triceps</th>\n      <th>insulina</th>\n      <th>massa</th>\n      <th>funcao_pedigree</th>\n      <th>idade</th>\n      <th>resultado</th>\n    </tr>\n  </thead>\n  <tbody>\n    <tr>\n      <th>0</th>\n      <td>6</td>\n      <td>148</td>\n      <td>72</td>\n      <td>35</td>\n      <td>0.0</td>\n      <td>33.6</td>\n      <td>0.627</td>\n      <td>50</td>\n      <td>1.0</td>\n    </tr>\n    <tr>\n      <th>1</th>\n      <td>1</td>\n      <td>85</td>\n      <td>66</td>\n      <td>29</td>\n      <td>0.0</td>\n      <td>26.6</td>\n      <td>0.351</td>\n      <td>31</td>\n      <td>0.0</td>\n    </tr>\n    <tr>\n      <th>2</th>\n      <td>8</td>\n      <td>183</td>\n      <td>64</td>\n      <td>0</td>\n      <td>0.0</td>\n      <td>23.3</td>\n      <td>0.672</td>\n      <td>32</td>\n      <td>1.0</td>\n    </tr>\n    <tr>\n      <th>3</th>\n      <td>1</td>\n      <td>89</td>\n      <td>66</td>\n      <td>23</td>\n      <td>94.0</td>\n      <td>28.1</td>\n      <td>0.167</td>\n      <td>21</td>\n      <td>0.0</td>\n    </tr>\n    <tr>\n      <th>4</th>\n      <td>0</td>\n      <td>137</td>\n      <td>40</td>\n      <td>35</td>\n      <td>168.0</td>\n      <td>43.1</td>\n      <td>2.288</td>\n      <td>33</td>\n      <td>1.0</td>\n    </tr>\n    <tr>\n      <th>5</th>\n      <td>5</td>\n      <td>116</td>\n      <td>74</td>\n      <td>0</td>\n      <td>0.0</td>\n      <td>25.6</td>\n      <td>0.201</td>\n      <td>30</td>\n      <td>0.0</td>\n    </tr>\n    <tr>\n      <th>6</th>\n      <td>3</td>\n      <td>78</td>\n      <td>50</td>\n      <td>32</td>\n      <td>88.0</td>\n      <td>31.0</td>\n      <td>0.248</td>\n      <td>26</td>\n      <td>1.0</td>\n    </tr>\n    <tr>\n      <th>7</th>\n      <td>10</td>\n      <td>115</td>\n      <td>0</td>\n      <td>0</td>\n      <td>0.0</td>\n      <td>35.3</td>\n      <td>0.134</td>\n      <td>29</td>\n      <td>0.0</td>\n    </tr>\n    <tr>\n      <th>8</th>\n      <td>2</td>\n      <td>197</td>\n      <td>70</td>\n      <td>45</td>\n      <td>543.0</td>\n      <td>30.5</td>\n      <td>0.158</td>\n      <td>53</td>\n      <td>1.0</td>\n    </tr>\n    <tr>\n      <th>9</th>\n      <td>8</td>\n      <td>125</td>\n      <td>96</td>\n      <td>0</td>\n      <td>0.0</td>\n      <td>0.0</td>\n      <td>0.232</td>\n      <td>54</td>\n      <td>1.0</td>\n    </tr>\n  </tbody>\n</table>\n</div>"
     },
     "metadata": {},
     "execution_count": 18
    }
   ],
   "source": [
    "df.head(10)"
   ]
  },
  {
   "source": [
    "# Transformando os dados do DataFrame em JSON"
   ],
   "cell_type": "markdown",
   "metadata": {}
  },
  {
   "cell_type": "code",
   "execution_count": 19,
   "metadata": {},
   "outputs": [],
   "source": [
    "resultado_em_json = df.to_json()"
   ]
  },
  {
   "cell_type": "code",
   "execution_count": 20,
   "metadata": {
    "tags": []
   },
   "outputs": [],
   "source": [
    "aux = json.loads(resultado_em_json)"
   ]
  },
  {
   "source": [
    "# Inserindo os dados da DataFrame no mongoDB"
   ],
   "cell_type": "markdown",
   "metadata": {}
  },
  {
   "cell_type": "code",
   "execution_count": 21,
   "metadata": {},
   "outputs": [],
   "source": [
    "insercao_db = myCol.insert_one(aux)"
   ]
  }
 ]
}