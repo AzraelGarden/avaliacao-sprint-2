{
 "metadata": {
  "language_info": {
   "codemirror_mode": {
    "name": "ipython",
    "version": 3
   },
   "file_extension": ".py",
   "mimetype": "text/x-python",
   "name": "python",
   "nbconvert_exporter": "python",
   "pygments_lexer": "ipython3",
   "version": "3.8.5"
  },
  "orig_nbformat": 2,
  "kernelspec": {
   "name": "python385jvsc74a57bd0916dbcbb3f70747c44a77c7bcd40155683ae19c65e1c03b4aa3499c5328201f1",
   "display_name": "Python 3.8.5 64-bit"
  },
  "metadata": {
   "interpreter": {
    "hash": "916dbcbb3f70747c44a77c7bcd40155683ae19c65e1c03b4aa3499c5328201f1"
   }
  }
 },
 "nbformat": 4,
 "nbformat_minor": 2,
 "cells": [
  {
   "cell_type": "code",
   "execution_count": 1,
   "metadata": {},
   "outputs": [],
   "source": [
    "import pymongo\n",
    "from sklearn import datasets"
   ]
  },
  {
   "cell_type": "code",
   "execution_count": 2,
   "metadata": {},
   "outputs": [],
   "source": [
    "myClient = pymongo.MongoClient(\"mongodb://localhost:27017/\")\n",
    "mydb = myClient[\"doenca\"]\n",
    "myCol = mydb[\"diabete\"]"
   ]
  },
  {
   "cell_type": "code",
   "execution_count": 7,
   "metadata": {},
   "outputs": [],
   "source": [
    "import openml\n",
    "dataset = openml.datasets.get_dataset(37)"
   ]
  },
  {
   "cell_type": "code",
   "execution_count": 8,
   "metadata": {},
   "outputs": [
    {
     "output_type": "execute_result",
     "data": {
      "text/plain": [
       "openml.datasets.dataset.OpenMLDataset"
      ]
     },
     "metadata": {},
     "execution_count": 8
    }
   ],
   "source": [
    "type(dataset)"
   ]
  },
  {
   "cell_type": "code",
   "execution_count": 13,
   "metadata": {},
   "outputs": [
    {
     "output_type": "stream",
     "name": "stdout",
     "text": [
      "OpenML Dataset\n==============\nName..........: diabetes\nVersion.......: 1\nFormat........: ARFF\nUpload Date...: 2014-04-06 23:22:13\nLicence.......: Public\nDownload URL..: https://www.openml.org/data/v1/download/37/diabetes.arff\nOpenML URL....: https://www.openml.org/d/37\n# of features.: 9\n# of instances: 768\n"
     ]
    }
   ],
   "source": [
    "print(dataset)"
   ]
  },
  {
   "cell_type": "code",
   "execution_count": 58,
   "metadata": {},
   "outputs": [
    {
     "output_type": "stream",
     "name": "stdout",
     "text": [
      "(     preg  plas  pres  skin   insu  mass   pedi  age\n0       6   148    72    35    0.0  33.6  0.627   50\n1       1    85    66    29    0.0  26.6  0.351   31\n2       8   183    64     0    0.0  23.3  0.672   32\n3       1    89    66    23   94.0  28.1  0.167   21\n4       0   137    40    35  168.0  43.1  2.288   33\n..    ...   ...   ...   ...    ...   ...    ...  ...\n763    10   101    76    48  180.0  32.9  0.171   63\n764     2   122    70    27    0.0  36.8  0.340   27\n765     5   121    72    23  112.0  26.2  0.245   30\n766     1   126    60     0    0.0  30.1  0.349   47\n767     1    93    70    31    0.0  30.4  0.315   23\n\n[768 rows x 8 columns], 0      tested_positive\n1      tested_negative\n2      tested_positive\n3      tested_negative\n4      tested_positive\n            ...       \n763    tested_negative\n764    tested_negative\n765    tested_negative\n766    tested_positive\n767    tested_negative\nName: class, Length: 768, dtype: category\nCategories (2, object): ['tested_negative' < 'tested_positive'], [False, False, False, False, False, False, False, False], ['preg', 'plas', 'pres', 'skin', 'insu', 'mass', 'pedi', 'age'])\n"
     ]
    }
   ],
   "source": [
    "print(dataset.get_data(dataset_format=\"dataframe\", target=dataset.default_target_attribute))"
   ]
  },
  {
   "cell_type": "code",
   "execution_count": 60,
   "metadata": {},
   "outputs": [],
   "source": [
    "info = dataset.get_data(dataset_format=\"dataframe\", target=dataset.default_target_attribute)"
   ]
  },
  {
   "cell_type": "code",
   "execution_count": 68,
   "metadata": {},
   "outputs": [
    {
     "output_type": "execute_result",
     "data": {
      "text/plain": [
       "     preg  plas  pres  skin   insu  mass   pedi  age\n",
       "0       6   148    72    35    0.0  33.6  0.627   50\n",
       "1       1    85    66    29    0.0  26.6  0.351   31\n",
       "2       8   183    64     0    0.0  23.3  0.672   32\n",
       "3       1    89    66    23   94.0  28.1  0.167   21\n",
       "4       0   137    40    35  168.0  43.1  2.288   33\n",
       "..    ...   ...   ...   ...    ...   ...    ...  ...\n",
       "763    10   101    76    48  180.0  32.9  0.171   63\n",
       "764     2   122    70    27    0.0  36.8  0.340   27\n",
       "765     5   121    72    23  112.0  26.2  0.245   30\n",
       "766     1   126    60     0    0.0  30.1  0.349   47\n",
       "767     1    93    70    31    0.0  30.4  0.315   23\n",
       "\n",
       "[768 rows x 8 columns]"
      ],
      "text/html": "<div>\n<style scoped>\n    .dataframe tbody tr th:only-of-type {\n        vertical-align: middle;\n    }\n\n    .dataframe tbody tr th {\n        vertical-align: top;\n    }\n\n    .dataframe thead th {\n        text-align: right;\n    }\n</style>\n<table border=\"1\" class=\"dataframe\">\n  <thead>\n    <tr style=\"text-align: right;\">\n      <th></th>\n      <th>preg</th>\n      <th>plas</th>\n      <th>pres</th>\n      <th>skin</th>\n      <th>insu</th>\n      <th>mass</th>\n      <th>pedi</th>\n      <th>age</th>\n    </tr>\n  </thead>\n  <tbody>\n    <tr>\n      <th>0</th>\n      <td>6</td>\n      <td>148</td>\n      <td>72</td>\n      <td>35</td>\n      <td>0.0</td>\n      <td>33.6</td>\n      <td>0.627</td>\n      <td>50</td>\n    </tr>\n    <tr>\n      <th>1</th>\n      <td>1</td>\n      <td>85</td>\n      <td>66</td>\n      <td>29</td>\n      <td>0.0</td>\n      <td>26.6</td>\n      <td>0.351</td>\n      <td>31</td>\n    </tr>\n    <tr>\n      <th>2</th>\n      <td>8</td>\n      <td>183</td>\n      <td>64</td>\n      <td>0</td>\n      <td>0.0</td>\n      <td>23.3</td>\n      <td>0.672</td>\n      <td>32</td>\n    </tr>\n    <tr>\n      <th>3</th>\n      <td>1</td>\n      <td>89</td>\n      <td>66</td>\n      <td>23</td>\n      <td>94.0</td>\n      <td>28.1</td>\n      <td>0.167</td>\n      <td>21</td>\n    </tr>\n    <tr>\n      <th>4</th>\n      <td>0</td>\n      <td>137</td>\n      <td>40</td>\n      <td>35</td>\n      <td>168.0</td>\n      <td>43.1</td>\n      <td>2.288</td>\n      <td>33</td>\n    </tr>\n    <tr>\n      <th>...</th>\n      <td>...</td>\n      <td>...</td>\n      <td>...</td>\n      <td>...</td>\n      <td>...</td>\n      <td>...</td>\n      <td>...</td>\n      <td>...</td>\n    </tr>\n    <tr>\n      <th>763</th>\n      <td>10</td>\n      <td>101</td>\n      <td>76</td>\n      <td>48</td>\n      <td>180.0</td>\n      <td>32.9</td>\n      <td>0.171</td>\n      <td>63</td>\n    </tr>\n    <tr>\n      <th>764</th>\n      <td>2</td>\n      <td>122</td>\n      <td>70</td>\n      <td>27</td>\n      <td>0.0</td>\n      <td>36.8</td>\n      <td>0.340</td>\n      <td>27</td>\n    </tr>\n    <tr>\n      <th>765</th>\n      <td>5</td>\n      <td>121</td>\n      <td>72</td>\n      <td>23</td>\n      <td>112.0</td>\n      <td>26.2</td>\n      <td>0.245</td>\n      <td>30</td>\n    </tr>\n    <tr>\n      <th>766</th>\n      <td>1</td>\n      <td>126</td>\n      <td>60</td>\n      <td>0</td>\n      <td>0.0</td>\n      <td>30.1</td>\n      <td>0.349</td>\n      <td>47</td>\n    </tr>\n    <tr>\n      <th>767</th>\n      <td>1</td>\n      <td>93</td>\n      <td>70</td>\n      <td>31</td>\n      <td>0.0</td>\n      <td>30.4</td>\n      <td>0.315</td>\n      <td>23</td>\n    </tr>\n  </tbody>\n</table>\n<p>768 rows × 8 columns</p>\n</div>"
     },
     "metadata": {},
     "execution_count": 68
    }
   ],
   "source": [
    "info[0]"
   ]
  },
  {
   "cell_type": "code",
   "execution_count": 71,
   "metadata": {},
   "outputs": [
    {
     "output_type": "execute_result",
     "data": {
      "text/plain": [
       "6"
      ]
     },
     "metadata": {},
     "execution_count": 71
    }
   ],
   "source": [
    "info[0]['preg'][0]"
   ]
  },
  {
   "cell_type": "code",
   "execution_count": 72,
   "metadata": {},
   "outputs": [
    {
     "output_type": "execute_result",
     "data": {
      "text/plain": [
       "'tested_positive'"
      ]
     },
     "metadata": {},
     "execution_count": 72
    }
   ],
   "source": [
    "info[1][0]"
   ]
  },
  {
   "cell_type": "code",
   "execution_count": null,
   "metadata": {},
   "outputs": [],
   "source": []
  }
 ]
}